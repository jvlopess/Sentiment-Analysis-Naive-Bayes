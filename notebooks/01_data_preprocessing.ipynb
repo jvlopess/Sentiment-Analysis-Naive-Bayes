{
 "cells": [
  {
   "cell_type": "code",
   "execution_count": 7,
   "metadata": {},
   "outputs": [
    {
     "name": "stdout",
     "output_type": "stream",
     "text": [
      "Caminhos dos arquivos encontrados:\n",
      "[]\n",
      "Nenhum dataframe encontrado para concatenar.\n"
     ]
    }
   ],
   "source": [
    "# Importar as bibliotecas necessárias\n",
    "import pandas as pd\n",
    "import requests\n",
    "from io import StringIO\n",
    "\n",
    "# Definir a base URL e os nomes dos arquivos\n",
    "base_url = 'https://raw.githubusercontent.com/username/repository/branch/path_to_folder/'\n",
    "file_names = [f'tweets_part_{i}.csv' for i in range(n)]  # Substitua n pelo número de arquivos\n",
    "urls = [base_url + file_name for file_name in file_names]\n",
    "\n",
    "# Lista para armazenar os DataFrames\n",
    "dataframes = []\n",
    "\n",
    "# Baixar e carregar cada arquivo CSV em um DataFrame\n",
    "for url in urls:\n",
    "    response = requests.get(url)\n",
    "    if response.status_code == 200:\n",
    "        df = pd.read_csv(StringIO(response.text))\n",
    "        dataframes.append(df)\n",
    "    else:\n",
    "        print(f\"Failed to fetch {url}\")\n",
    "\n",
    "# Combinar todos os DataFrames em um único DataFrame\n",
    "combined_df = pd.concat(dataframes, ignore_index=True)\n",
    "\n",
    "# Exibir as primeiras linhas do DataFrame combinado\n",
    "combined_df.head()\n"
   ]
  }
 ],
 "metadata": {
  "kernelspec": {
   "display_name": "base",
   "language": "python",
   "name": "python3"
  },
  "language_info": {
   "codemirror_mode": {
    "name": "ipython",
    "version": 3
   },
   "file_extension": ".py",
   "mimetype": "text/x-python",
   "name": "python",
   "nbconvert_exporter": "python",
   "pygments_lexer": "ipython3",
   "version": "3.11.5"
  }
 },
 "nbformat": 4,
 "nbformat_minor": 2
}
