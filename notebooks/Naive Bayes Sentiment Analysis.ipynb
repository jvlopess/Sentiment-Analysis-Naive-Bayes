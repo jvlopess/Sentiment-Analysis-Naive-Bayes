{
 "cells": [
  {
   "cell_type": "code",
   "execution_count": 1,
   "metadata": {},
   "outputs": [
    {
     "name": "stderr",
     "output_type": "stream",
     "text": [
      "[nltk_data] Downloading package stopwords to /home/joao/nltk_data...\n",
      "[nltk_data]   Package stopwords is already up-to-date!\n",
      "[nltk_data] Downloading package wordnet to /home/joao/nltk_data...\n",
      "[nltk_data]   Package wordnet is already up-to-date!\n",
      "[nltk_data] Downloading package punkt to /home/joao/nltk_data...\n",
      "[nltk_data]   Package punkt is already up-to-date!\n"
     ]
    },
    {
     "data": {
      "text/plain": [
       "True"
      ]
     },
     "execution_count": 1,
     "metadata": {},
     "output_type": "execute_result"
    }
   ],
   "source": [
    "# Importar as bibliotecas necessárias\n",
    "import re\n",
    "import string\n",
    "import nltk\n",
    "from nltk.corpus import stopwords\n",
    "from nltk.tokenize import word_tokenize\n",
    "from nltk.stem import WordNetLemmatizer\n",
    "from sklearn.feature_extraction.text import CountVectorizer\n",
    "from sklearn.model_selection import train_test_split, cross_val_score, GridSearchCV\n",
    "from sklearn.naive_bayes import MultinomialNB\n",
    "from sklearn import metrics\n",
    "from sklearn.metrics import confusion_matrix, classification_report, roc_auc_score, f1_score, precision_score, recall_score, roc_curve, accuracy_score\n",
    "import matplotlib.pyplot as plt\n",
    "import numpy as np\n",
    "import pandas as pd\n",
    "import requests\n",
    "from io import StringIO\n",
    "\n",
    "# Baixar recursos necessários do nltk\n",
    "nltk.download('stopwords')\n",
    "nltk.download('wordnet')\n",
    "nltk.download('punkt')"
   ]
  },
  {
   "cell_type": "markdown",
   "metadata": {},
   "source": [
    "### Carregamento e Combinação de Múltiplos Arquivos CSV\n",
    "\n",
    "Aqui estamos realizando o carregamento e a combinação de múltiplos arquivos CSV que estão armazenados em um repositório no GitHub. Primeiramente, definimos a URL base e geramos uma lista com os nomes dos arquivos que desejamos carregar. Em seguida, criamos URLs completas para cada arquivo CSV.\n",
    "\n",
    "Utilizamos uma lista para armazenar os DataFrames individuais que são carregados ao fazer requisições HTTP GET para cada URL. Cada resposta é verificada para garantir que a requisição foi bem-sucedida antes de ler o conteúdo do CSV em um DataFrame. Se a requisição falhar, uma mensagem de erro é impressa.\n",
    "\n",
    "Após carregar todos os arquivos CSV, combinamos todos os DataFrames em um único DataFrame utilizando a função `concat` do pandas. Finalmente, exibimos as primeiras linhas do DataFrame combinado para verificar se os dados foram carregados corretamente.\n"
   ]
  },
  {
   "cell_type": "code",
   "execution_count": 2,
   "metadata": {},
   "outputs": [
    {
     "data": {
      "text/html": [
       "<div>\n",
       "<style scoped>\n",
       "    .dataframe tbody tr th:only-of-type {\n",
       "        vertical-align: middle;\n",
       "    }\n",
       "\n",
       "    .dataframe tbody tr th {\n",
       "        vertical-align: top;\n",
       "    }\n",
       "\n",
       "    .dataframe thead th {\n",
       "        text-align: right;\n",
       "    }\n",
       "</style>\n",
       "<table border=\"1\" class=\"dataframe\">\n",
       "  <thead>\n",
       "    <tr style=\"text-align: right;\">\n",
       "      <th></th>\n",
       "      <th>0</th>\n",
       "      <th>1467810369</th>\n",
       "      <th>Mon Apr 06 22:19:45 PDT 2009</th>\n",
       "      <th>NO_QUERY</th>\n",
       "      <th>_TheSpecialOne_</th>\n",
       "      <th>@switchfoot http://twitpic.com/2y1zl - Awww, that's a bummer.  You shoulda got David Carr of Third Day to do it. ;D</th>\n",
       "    </tr>\n",
       "  </thead>\n",
       "  <tbody>\n",
       "    <tr>\n",
       "      <th>0</th>\n",
       "      <td>0</td>\n",
       "      <td>1467810672</td>\n",
       "      <td>Mon Apr 06 22:19:49 PDT 2009</td>\n",
       "      <td>NO_QUERY</td>\n",
       "      <td>scotthamilton</td>\n",
       "      <td>is upset that he can't update his Facebook by ...</td>\n",
       "    </tr>\n",
       "    <tr>\n",
       "      <th>1</th>\n",
       "      <td>0</td>\n",
       "      <td>1467810917</td>\n",
       "      <td>Mon Apr 06 22:19:53 PDT 2009</td>\n",
       "      <td>NO_QUERY</td>\n",
       "      <td>mattycus</td>\n",
       "      <td>@Kenichan I dived many times for the ball. Man...</td>\n",
       "    </tr>\n",
       "    <tr>\n",
       "      <th>2</th>\n",
       "      <td>0</td>\n",
       "      <td>1467811184</td>\n",
       "      <td>Mon Apr 06 22:19:57 PDT 2009</td>\n",
       "      <td>NO_QUERY</td>\n",
       "      <td>ElleCTF</td>\n",
       "      <td>my whole body feels itchy and like its on fire</td>\n",
       "    </tr>\n",
       "    <tr>\n",
       "      <th>3</th>\n",
       "      <td>0</td>\n",
       "      <td>1467811193</td>\n",
       "      <td>Mon Apr 06 22:19:57 PDT 2009</td>\n",
       "      <td>NO_QUERY</td>\n",
       "      <td>Karoli</td>\n",
       "      <td>@nationwideclass no, it's not behaving at all....</td>\n",
       "    </tr>\n",
       "    <tr>\n",
       "      <th>4</th>\n",
       "      <td>0</td>\n",
       "      <td>1467811372</td>\n",
       "      <td>Mon Apr 06 22:20:00 PDT 2009</td>\n",
       "      <td>NO_QUERY</td>\n",
       "      <td>joy_wolf</td>\n",
       "      <td>@Kwesidei not the whole crew</td>\n",
       "    </tr>\n",
       "  </tbody>\n",
       "</table>\n",
       "</div>"
      ],
      "text/plain": [
       "   0  1467810369  Mon Apr 06 22:19:45 PDT 2009  NO_QUERY _TheSpecialOne_  \\\n",
       "0  0  1467810672  Mon Apr 06 22:19:49 PDT 2009  NO_QUERY   scotthamilton   \n",
       "1  0  1467810917  Mon Apr 06 22:19:53 PDT 2009  NO_QUERY        mattycus   \n",
       "2  0  1467811184  Mon Apr 06 22:19:57 PDT 2009  NO_QUERY         ElleCTF   \n",
       "3  0  1467811193  Mon Apr 06 22:19:57 PDT 2009  NO_QUERY          Karoli   \n",
       "4  0  1467811372  Mon Apr 06 22:20:00 PDT 2009  NO_QUERY        joy_wolf   \n",
       "\n",
       "  @switchfoot http://twitpic.com/2y1zl - Awww, that's a bummer.  You shoulda got David Carr of Third Day to do it. ;D  \n",
       "0  is upset that he can't update his Facebook by ...                                                                   \n",
       "1  @Kenichan I dived many times for the ball. Man...                                                                   \n",
       "2    my whole body feels itchy and like its on fire                                                                    \n",
       "3  @nationwideclass no, it's not behaving at all....                                                                   \n",
       "4                      @Kwesidei not the whole crew                                                                    "
      ]
     },
     "execution_count": 2,
     "metadata": {},
     "output_type": "execute_result"
    }
   ],
   "source": [
    "base_url = 'https://raw.githubusercontent.com/jvlopess/sentiment-analysis-naive-bayes/main/data/'\n",
    "file_names = [f'tweets_part_{i}.csv' for i in range(32)]\n",
    "urls = [base_url + file_name for file_name in file_names]\n",
    "\n",
    "# Lista para armazenar os DataFrames\n",
    "dataframes = []\n",
    "# Baixar e carregar cada arquivo CSV em um DataFrame\n",
    "for url in urls:\n",
    "    response = requests.get(url)\n",
    "    if response.status_code == 200:\n",
    "        df = pd.read_csv(StringIO(response.text))\n",
    "        dataframes.append(df)\n",
    "    else:\n",
    "        print(f\"Failed to fetch {url}\")\n",
    "\n",
    "# Combinar todos os DataFrames em um único DataFrame\n",
    "df = pd.concat(dataframes, ignore_index=True)\n",
    "\n",
    "# Exibir as primeiras linhas do DataFrame combinado\n",
    "df.head()\n"
   ]
  },
  {
   "cell_type": "markdown",
   "metadata": {},
   "source": [
    "### Adição de Títulos de Colunas ao DataFrame\n",
    "\n",
    "Neste bloco de código, adicionamos títulos de colunas ao DataFrame `df`, uma vez que os dados carregados não possuem cabeçalhos definidos.\n",
    "\n",
    "Primeiro, definimos os títulos das colunas de acordo com a estrutura dos dados:\n",
    "- **label:** Indica a classificação do tweet (sentimento).\n",
    "- **time:** Hora em que o tweet foi postado.\n",
    "- **date:** Data em que o tweet foi postado.\n",
    "- **query:** Informação de consulta (geralmente vazia ou irrelevante).\n",
    "- **username:** Nome de usuário do autor do tweet.\n",
    "- **tweet:** O texto do tweet.\n",
    "\n",
    "Após definir os títulos das colunas, aplicamos essas definições ao DataFrame `df` e, em seguida, exibimos as primeiras linhas do DataFrame para verificar se os títulos foram aplicados corretamente.\n"
   ]
  },
  {
   "cell_type": "code",
   "execution_count": 3,
   "metadata": {},
   "outputs": [
    {
     "data": {
      "text/html": [
       "<div>\n",
       "<style scoped>\n",
       "    .dataframe tbody tr th:only-of-type {\n",
       "        vertical-align: middle;\n",
       "    }\n",
       "\n",
       "    .dataframe tbody tr th {\n",
       "        vertical-align: top;\n",
       "    }\n",
       "\n",
       "    .dataframe thead th {\n",
       "        text-align: right;\n",
       "    }\n",
       "</style>\n",
       "<table border=\"1\" class=\"dataframe\">\n",
       "  <thead>\n",
       "    <tr style=\"text-align: right;\">\n",
       "      <th></th>\n",
       "      <th>label</th>\n",
       "      <th>time</th>\n",
       "      <th>date</th>\n",
       "      <th>query</th>\n",
       "      <th>username</th>\n",
       "      <th>tweet</th>\n",
       "    </tr>\n",
       "  </thead>\n",
       "  <tbody>\n",
       "    <tr>\n",
       "      <th>0</th>\n",
       "      <td>0</td>\n",
       "      <td>1467810672</td>\n",
       "      <td>Mon Apr 06 22:19:49 PDT 2009</td>\n",
       "      <td>NO_QUERY</td>\n",
       "      <td>scotthamilton</td>\n",
       "      <td>is upset that he can't update his Facebook by ...</td>\n",
       "    </tr>\n",
       "    <tr>\n",
       "      <th>1</th>\n",
       "      <td>0</td>\n",
       "      <td>1467810917</td>\n",
       "      <td>Mon Apr 06 22:19:53 PDT 2009</td>\n",
       "      <td>NO_QUERY</td>\n",
       "      <td>mattycus</td>\n",
       "      <td>@Kenichan I dived many times for the ball. Man...</td>\n",
       "    </tr>\n",
       "    <tr>\n",
       "      <th>2</th>\n",
       "      <td>0</td>\n",
       "      <td>1467811184</td>\n",
       "      <td>Mon Apr 06 22:19:57 PDT 2009</td>\n",
       "      <td>NO_QUERY</td>\n",
       "      <td>ElleCTF</td>\n",
       "      <td>my whole body feels itchy and like its on fire</td>\n",
       "    </tr>\n",
       "    <tr>\n",
       "      <th>3</th>\n",
       "      <td>0</td>\n",
       "      <td>1467811193</td>\n",
       "      <td>Mon Apr 06 22:19:57 PDT 2009</td>\n",
       "      <td>NO_QUERY</td>\n",
       "      <td>Karoli</td>\n",
       "      <td>@nationwideclass no, it's not behaving at all....</td>\n",
       "    </tr>\n",
       "    <tr>\n",
       "      <th>4</th>\n",
       "      <td>0</td>\n",
       "      <td>1467811372</td>\n",
       "      <td>Mon Apr 06 22:20:00 PDT 2009</td>\n",
       "      <td>NO_QUERY</td>\n",
       "      <td>joy_wolf</td>\n",
       "      <td>@Kwesidei not the whole crew</td>\n",
       "    </tr>\n",
       "  </tbody>\n",
       "</table>\n",
       "</div>"
      ],
      "text/plain": [
       "   label        time                          date     query       username  \\\n",
       "0      0  1467810672  Mon Apr 06 22:19:49 PDT 2009  NO_QUERY  scotthamilton   \n",
       "1      0  1467810917  Mon Apr 06 22:19:53 PDT 2009  NO_QUERY       mattycus   \n",
       "2      0  1467811184  Mon Apr 06 22:19:57 PDT 2009  NO_QUERY        ElleCTF   \n",
       "3      0  1467811193  Mon Apr 06 22:19:57 PDT 2009  NO_QUERY         Karoli   \n",
       "4      0  1467811372  Mon Apr 06 22:20:00 PDT 2009  NO_QUERY       joy_wolf   \n",
       "\n",
       "                                               tweet  \n",
       "0  is upset that he can't update his Facebook by ...  \n",
       "1  @Kenichan I dived many times for the ball. Man...  \n",
       "2    my whole body feels itchy and like its on fire   \n",
       "3  @nationwideclass no, it's not behaving at all....  \n",
       "4                      @Kwesidei not the whole crew   "
      ]
     },
     "execution_count": 3,
     "metadata": {},
     "output_type": "execute_result"
    }
   ],
   "source": [
    " # As the data has no column titles, we will add our own\n",
    "df.columns = [\"label\", \"time\", \"date\", \"query\", \"username\", \"tweet\"]\n",
    "\n",
    "df.head()"
   ]
  },
  {
   "cell_type": "markdown",
   "metadata": {},
   "source": [
    "### Embaralhamento e Redução do Conjunto de Dados\n",
    "\n",
    "Neste bloco de código, estamos embaralhando e reduzindo o tamanho do conjunto de dados para facilitar o processamento e a análise.\n",
    "\n",
    "1. **Embaralhamento do DataFrame:**\n",
    "   - Utilizamos `df.sample(frac=1)` para embaralhar as linhas do DataFrame `df` aleatoriamente. O parâmetro `frac=1` indica que todas as linhas devem ser incluídas no embaralhamento.\n",
    "\n",
    "2. **Redução do Tamanho do Conjunto de Dados:**\n",
    "   - Reduzimos o DataFrame para incluir apenas as primeiras 200.000 linhas utilizando `df = df[:200000]`. Isso é útil para trabalhar com um subconjunto gerenciável dos dados, especialmente em cenários onde o conjunto de dados original é muito grande.\n",
    "\n",
    "3. **Verificação da Estrutura do Conjunto de Dados:**\n",
    "   - Imprimimos a forma do DataFrame reduzido com `print(\"Dataset shape:\", df.shape)`, o que nos permite verificar o número de linhas e colunas após o embaralhamento e a redução.\n",
    "\n",
    "Essas etapas ajudam a garantir que o conjunto de dados seja aleatório e de um tamanho adequado para análises subsequentes.\n"
   ]
  },
  {
   "cell_type": "code",
   "execution_count": 4,
   "metadata": {},
   "outputs": [
    {
     "name": "stdout",
     "output_type": "stream",
     "text": [
      "Dataset shape: (200000, 6)\n"
     ]
    }
   ],
   "source": [
    "df = df.sample(frac=1, random_state=42)\n",
    "df = df[:200000]\n",
    "print(\"Dataset shape:\", df.shape)"
   ]
  },
  {
   "cell_type": "code",
   "execution_count": 5,
   "metadata": {},
   "outputs": [
    {
     "data": {
      "text/plain": [
       "label\n",
       "4    100143\n",
       "0     99857\n",
       "Name: count, dtype: int64"
      ]
     },
     "execution_count": 5,
     "metadata": {},
     "output_type": "execute_result"
    }
   ],
   "source": [
    "df['label'].value_counts()"
   ]
  },
  {
   "cell_type": "markdown",
   "metadata": {},
   "source": [
    "### Verificação dos Valores Únicos na Coluna de Rótulos\n",
    "\n",
    "Neste bloco de código, estamos verificando os valores únicos presentes na coluna `label` do DataFrame `df`.\n",
    "\n",
    "- **Objetivo:**\n",
    "  - O objetivo é identificar as diferentes classes ou rótulos presentes no conjunto de dados, que indicam a classificação do sentimento dos tweets.\n",
    "\n",
    "- **Método:**\n",
    "  - Utilizamos `df['label'].unique()` para extrair uma lista de valores únicos da coluna `label`.\n",
    "\n",
    "- **Importância:**\n",
    "  - Esta etapa é crucial para entender a distribuição dos dados e garantir que os rótulos de classificação sejam consistentes com as expectativas (por exemplo, 0 para sentimentos negativos e 4 para sentimentos positivos).\n"
   ]
  },
  {
   "cell_type": "code",
   "execution_count": 6,
   "metadata": {},
   "outputs": [
    {
     "data": {
      "text/plain": [
       "array([0, 4])"
      ]
     },
     "execution_count": 6,
     "metadata": {},
     "output_type": "execute_result"
    }
   ],
   "source": [
    "df['label'].unique()"
   ]
  },
  {
   "cell_type": "markdown",
   "metadata": {},
   "source": [
    "### Currently (0=negative,4=Positive) changing the notation to (0=Negative,1=Positive)"
   ]
  },
  {
   "cell_type": "code",
   "execution_count": 7,
   "metadata": {},
   "outputs": [
    {
     "data": {
      "text/html": [
       "<div>\n",
       "<style scoped>\n",
       "    .dataframe tbody tr th:only-of-type {\n",
       "        vertical-align: middle;\n",
       "    }\n",
       "\n",
       "    .dataframe tbody tr th {\n",
       "        vertical-align: top;\n",
       "    }\n",
       "\n",
       "    .dataframe thead th {\n",
       "        text-align: right;\n",
       "    }\n",
       "</style>\n",
       "<table border=\"1\" class=\"dataframe\">\n",
       "  <thead>\n",
       "    <tr style=\"text-align: right;\">\n",
       "      <th></th>\n",
       "      <th>label</th>\n",
       "      <th>time</th>\n",
       "      <th>date</th>\n",
       "      <th>query</th>\n",
       "      <th>username</th>\n",
       "      <th>tweet</th>\n",
       "    </tr>\n",
       "  </thead>\n",
       "  <tbody>\n",
       "    <tr>\n",
       "      <th>541200</th>\n",
       "      <td>0</td>\n",
       "      <td>2200003313</td>\n",
       "      <td>Tue Jun 16 18:18:13 PDT 2009</td>\n",
       "      <td>NO_QUERY</td>\n",
       "      <td>DEWGetMeTho77</td>\n",
       "      <td>@Nkluvr4eva My poor little dumpling  In Holmde...</td>\n",
       "    </tr>\n",
       "    <tr>\n",
       "      <th>750</th>\n",
       "      <td>0</td>\n",
       "      <td>1467998601</td>\n",
       "      <td>Mon Apr 06 23:11:18 PDT 2009</td>\n",
       "      <td>NO_QUERY</td>\n",
       "      <td>Young_J</td>\n",
       "      <td>I'm off too bed. I gotta wake up hella early t...</td>\n",
       "    </tr>\n",
       "    <tr>\n",
       "      <th>766711</th>\n",
       "      <td>0</td>\n",
       "      <td>2300049112</td>\n",
       "      <td>Tue Jun 23 13:40:12 PDT 2009</td>\n",
       "      <td>NO_QUERY</td>\n",
       "      <td>dougnawoschik</td>\n",
       "      <td>I havent been able to listen to it yet  My spe...</td>\n",
       "    </tr>\n",
       "    <tr>\n",
       "      <th>285055</th>\n",
       "      <td>0</td>\n",
       "      <td>1993474319</td>\n",
       "      <td>Mon Jun 01 10:26:09 PDT 2009</td>\n",
       "      <td>NO_QUERY</td>\n",
       "      <td>thireven</td>\n",
       "      <td>now remembers why solving a relatively big equ...</td>\n",
       "    </tr>\n",
       "    <tr>\n",
       "      <th>705995</th>\n",
       "      <td>0</td>\n",
       "      <td>2256551006</td>\n",
       "      <td>Sat Jun 20 12:56:51 PDT 2009</td>\n",
       "      <td>NO_QUERY</td>\n",
       "      <td>taracollins086</td>\n",
       "      <td>Ate too much, feel sick</td>\n",
       "    </tr>\n",
       "    <tr>\n",
       "      <th>...</th>\n",
       "      <td>...</td>\n",
       "      <td>...</td>\n",
       "      <td>...</td>\n",
       "      <td>...</td>\n",
       "      <td>...</td>\n",
       "      <td>...</td>\n",
       "    </tr>\n",
       "    <tr>\n",
       "      <th>1421978</th>\n",
       "      <td>1</td>\n",
       "      <td>2058414453</td>\n",
       "      <td>Sat Jun 06 14:53:44 PDT 2009</td>\n",
       "      <td>NO_QUERY</td>\n",
       "      <td>quotemy</td>\n",
       "      <td>watching the big bang theory and talking to my...</td>\n",
       "    </tr>\n",
       "    <tr>\n",
       "      <th>43554</th>\n",
       "      <td>0</td>\n",
       "      <td>1676557372</td>\n",
       "      <td>Fri May 01 22:24:38 PDT 2009</td>\n",
       "      <td>NO_QUERY</td>\n",
       "      <td>laurenjessicaH</td>\n",
       "      <td>;( noooo! why? things are so complicated if I...</td>\n",
       "    </tr>\n",
       "    <tr>\n",
       "      <th>559176</th>\n",
       "      <td>0</td>\n",
       "      <td>2204916912</td>\n",
       "      <td>Wed Jun 17 03:28:36 PDT 2009</td>\n",
       "      <td>NO_QUERY</td>\n",
       "      <td>monzica</td>\n",
       "      <td>melting next to a heater = static hair!</td>\n",
       "    </tr>\n",
       "    <tr>\n",
       "      <th>1287523</th>\n",
       "      <td>1</td>\n",
       "      <td>2002375219</td>\n",
       "      <td>Tue Jun 02 04:01:39 PDT 2009</td>\n",
       "      <td>NO_QUERY</td>\n",
       "      <td>mathaba_forum</td>\n",
       "      <td>@dwaynekerr great one</td>\n",
       "    </tr>\n",
       "    <tr>\n",
       "      <th>941392</th>\n",
       "      <td>1</td>\n",
       "      <td>1794227061</td>\n",
       "      <td>Thu May 14 05:17:51 PDT 2009</td>\n",
       "      <td>NO_QUERY</td>\n",
       "      <td>allthingsthree</td>\n",
       "      <td>I'm not complaining as a lot of hard work went...</td>\n",
       "    </tr>\n",
       "  </tbody>\n",
       "</table>\n",
       "<p>200000 rows × 6 columns</p>\n",
       "</div>"
      ],
      "text/plain": [
       "         label        time                          date     query  \\\n",
       "541200       0  2200003313  Tue Jun 16 18:18:13 PDT 2009  NO_QUERY   \n",
       "750          0  1467998601  Mon Apr 06 23:11:18 PDT 2009  NO_QUERY   \n",
       "766711       0  2300049112  Tue Jun 23 13:40:12 PDT 2009  NO_QUERY   \n",
       "285055       0  1993474319  Mon Jun 01 10:26:09 PDT 2009  NO_QUERY   \n",
       "705995       0  2256551006  Sat Jun 20 12:56:51 PDT 2009  NO_QUERY   \n",
       "...        ...         ...                           ...       ...   \n",
       "1421978      1  2058414453  Sat Jun 06 14:53:44 PDT 2009  NO_QUERY   \n",
       "43554        0  1676557372  Fri May 01 22:24:38 PDT 2009  NO_QUERY   \n",
       "559176       0  2204916912  Wed Jun 17 03:28:36 PDT 2009  NO_QUERY   \n",
       "1287523      1  2002375219  Tue Jun 02 04:01:39 PDT 2009  NO_QUERY   \n",
       "941392       1  1794227061  Thu May 14 05:17:51 PDT 2009  NO_QUERY   \n",
       "\n",
       "               username                                              tweet  \n",
       "541200    DEWGetMeTho77  @Nkluvr4eva My poor little dumpling  In Holmde...  \n",
       "750             Young_J  I'm off too bed. I gotta wake up hella early t...  \n",
       "766711    dougnawoschik  I havent been able to listen to it yet  My spe...  \n",
       "285055         thireven  now remembers why solving a relatively big equ...  \n",
       "705995   taracollins086                           Ate too much, feel sick   \n",
       "...                 ...                                                ...  \n",
       "1421978         quotemy  watching the big bang theory and talking to my...  \n",
       "43554    laurenjessicaH   ;( noooo! why? things are so complicated if I...  \n",
       "559176          monzica           melting next to a heater = static hair!   \n",
       "1287523   mathaba_forum                             @dwaynekerr great one   \n",
       "941392   allthingsthree  I'm not complaining as a lot of hard work went...  \n",
       "\n",
       "[200000 rows x 6 columns]"
      ]
     },
     "execution_count": 7,
     "metadata": {},
     "output_type": "execute_result"
    }
   ],
   "source": [
    "df['label']=df['label'].replace(4,1)\n",
    "df"
   ]
  },
  {
   "cell_type": "markdown",
   "metadata": {},
   "source": [
    "### Remoção de Colunas Desnecessárias\n",
    "\n",
    "Neste bloco de código, estamos simplificando o DataFrame `df` removendo colunas que não são relevantes para a análise de sentimentos dos tweets.\n",
    "\n",
    "1. **Remoção de Colunas `date`, `query` e `username`:**\n",
    "   - Utilizamos `df.drop(['date', 'query', 'username'], axis=1, inplace=True)` para remover as colunas `date`, `query` e `username`. Estas colunas não são necessárias para a tarefa de classificação de sentimentos e são removidas para simplificar o DataFrame.\n",
    "\n",
    "2. **Remoção da Coluna `time`:**\n",
    "   - Removemos a coluna `time` separadamente utilizando `df.drop('time', axis=1, inplace=True)`, pois ela também não é relevante para a análise de sentimentos.\n",
    "\n",
    "3. **Exibição das Primeiras Linhas do DataFrame Modificado:**\n",
    "   - Utilizamos `df.head(10)` para exibir as primeiras 10 linhas do DataFrame após a remoção das colunas. Isso nos permite verificar que as colunas foram removidas corretamente e que o DataFrame agora contém apenas as colunas `label` e `tweet`.\n",
    "\n",
    "A remoção dessas colunas ajuda a focar apenas nos dados necessários para a análise, facilitando o processamento e a modelagem subsequentes.\n"
   ]
  },
  {
   "cell_type": "code",
   "execution_count": 8,
   "metadata": {},
   "outputs": [
    {
     "data": {
      "text/html": [
       "<div>\n",
       "<style scoped>\n",
       "    .dataframe tbody tr th:only-of-type {\n",
       "        vertical-align: middle;\n",
       "    }\n",
       "\n",
       "    .dataframe tbody tr th {\n",
       "        vertical-align: top;\n",
       "    }\n",
       "\n",
       "    .dataframe thead th {\n",
       "        text-align: right;\n",
       "    }\n",
       "</style>\n",
       "<table border=\"1\" class=\"dataframe\">\n",
       "  <thead>\n",
       "    <tr style=\"text-align: right;\">\n",
       "      <th></th>\n",
       "      <th>label</th>\n",
       "      <th>tweet</th>\n",
       "    </tr>\n",
       "  </thead>\n",
       "  <tbody>\n",
       "    <tr>\n",
       "      <th>541200</th>\n",
       "      <td>0</td>\n",
       "      <td>@Nkluvr4eva My poor little dumpling  In Holmde...</td>\n",
       "    </tr>\n",
       "    <tr>\n",
       "      <th>750</th>\n",
       "      <td>0</td>\n",
       "      <td>I'm off too bed. I gotta wake up hella early t...</td>\n",
       "    </tr>\n",
       "    <tr>\n",
       "      <th>766711</th>\n",
       "      <td>0</td>\n",
       "      <td>I havent been able to listen to it yet  My spe...</td>\n",
       "    </tr>\n",
       "    <tr>\n",
       "      <th>285055</th>\n",
       "      <td>0</td>\n",
       "      <td>now remembers why solving a relatively big equ...</td>\n",
       "    </tr>\n",
       "    <tr>\n",
       "      <th>705995</th>\n",
       "      <td>0</td>\n",
       "      <td>Ate too much, feel sick</td>\n",
       "    </tr>\n",
       "    <tr>\n",
       "      <th>379611</th>\n",
       "      <td>0</td>\n",
       "      <td>Tried to purchase a parked domain through GoDa...</td>\n",
       "    </tr>\n",
       "    <tr>\n",
       "      <th>1189017</th>\n",
       "      <td>1</td>\n",
       "      <td>on lunch....dj should come eat with me</td>\n",
       "    </tr>\n",
       "    <tr>\n",
       "      <th>667030</th>\n",
       "      <td>0</td>\n",
       "      <td>Just got back from VA Tech Equine Medical Cent...</td>\n",
       "    </tr>\n",
       "    <tr>\n",
       "      <th>93541</th>\n",
       "      <td>0</td>\n",
       "      <td>can't log in to my other twitter account. supe...</td>\n",
       "    </tr>\n",
       "    <tr>\n",
       "      <th>1365937</th>\n",
       "      <td>1</td>\n",
       "      <td>@TamaraSchilling Adventure - That's what we al...</td>\n",
       "    </tr>\n",
       "  </tbody>\n",
       "</table>\n",
       "</div>"
      ],
      "text/plain": [
       "         label                                              tweet\n",
       "541200       0  @Nkluvr4eva My poor little dumpling  In Holmde...\n",
       "750          0  I'm off too bed. I gotta wake up hella early t...\n",
       "766711       0  I havent been able to listen to it yet  My spe...\n",
       "285055       0  now remembers why solving a relatively big equ...\n",
       "705995       0                           Ate too much, feel sick \n",
       "379611       0  Tried to purchase a parked domain through GoDa...\n",
       "1189017      1            on lunch....dj should come eat with me \n",
       "667030       0  Just got back from VA Tech Equine Medical Cent...\n",
       "93541        0  can't log in to my other twitter account. supe...\n",
       "1365937      1  @TamaraSchilling Adventure - That's what we al..."
      ]
     },
     "execution_count": 8,
     "metadata": {},
     "output_type": "execute_result"
    }
   ],
   "source": [
    "df.drop(['date','query','username'], axis=1, inplace=True)\n",
    "df.drop('time', axis=1, inplace=True)\n",
    "df.head(10)"
   ]
  },
  {
   "cell_type": "markdown",
   "metadata": {},
   "source": [
    "### Função para Limpeza dos Tweets\n",
    "\n",
    "Neste bloco de código, definimos a função `process_tweets` para realizar o pré-processamento dos textos dos tweets. Esta função aplica várias etapas de limpeza e transformação para preparar os dados para a análise de sentimentos.\n",
    "\n",
    "1. **Conversão para Minúsculas:**\n",
    "   - `tweet = tweet.lower()`\n",
    "   - Converte todo o texto do tweet para letras minúsculas, garantindo consistência e evitando duplicidades baseadas em diferenças de capitalização.\n",
    "\n",
    "2. **Remoção de URLs:**\n",
    "   - `tweet = re.sub(r'http\\S+|www.\\S+', '', tweet)`\n",
    "   - Remove quaisquer URLs presentes no tweet, pois elas geralmente não contribuem para a análise de sentimentos.\n",
    "\n",
    "3. **Remoção de Menções:**\n",
    "   - `tweet = re.sub(r'@\\w+', '', tweet)`\n",
    "   - Remove menções a outros usuários do Twitter, que começam com '@', para focar no conteúdo textual principal.\n",
    "\n",
    "4. **Remoção de Números:**\n",
    "   - `tweet = re.sub(r'\\d+', '', tweet)`\n",
    "   - Remove todos os números do tweet, pois geralmente não são úteis para a análise de sentimentos.\n",
    "\n",
    "5. **Remoção de Pontuações:**\n",
    "   - `tweet = tweet.translate(str.maketrans('', '', string.punctuation))`\n",
    "   - Remove todos os sinais de pontuação para simplificar o texto.\n",
    "\n",
    "6. **Tokenização:**\n",
    "   - `tokens = word_tokenize(tweet)`\n",
    "   - Divide o texto em tokens individuais (palavras), facilitando o processamento subsequente.\n",
    "\n",
    "7. **Remoção de Stop Words:**\n",
    "   - `tokens = [word for word in tokens if word not in stopwords.words('english')]`\n",
    "   - Remove stop words, que são palavras comuns (como \"and\", \"the\", etc.) que não adicionam significado relevante ao texto.\n",
    "\n",
    "8. **Lematização:**\n",
    "   - `lemmatizer = WordNetLemmatizer()`\n",
    "   - `tokens = [lemmatizer.lemmatize(word) for word in tokens]`\n",
    "   - Reduz as palavras às suas formas base ou raiz (por exemplo, \"running\" para \"run\"), ajudando a normalizar o texto.\n",
    "\n",
    "9. **Recomposição do Texto:**\n",
    "   - `return ' '.join(tokens)`\n",
    "   - Reúne os tokens processados em uma string única, representando o texto do tweet limpo e preparado para análise.\n",
    "\n",
    "Essa função de limpeza garante que os textos dos tweets estejam em um formato consistente e livre de ruídos, facilitando a análise e melhorando o desempenho dos modelos de aprendizado de máquina.\n"
   ]
  },
  {
   "cell_type": "code",
   "execution_count": 9,
   "metadata": {},
   "outputs": [],
   "source": [
    "def process_tweets(tweet):\n",
    "    # Lower case\n",
    "    tweet = tweet.lower()\n",
    "    # Remove URLs\n",
    "    tweet = re.sub(r'http\\S+|www.\\S+', '', tweet)\n",
    "    # Remove mentions\n",
    "    tweet = re.sub(r'@\\w+', '', tweet)\n",
    "    # Remove números\n",
    "    tweet = re.sub(r'\\d+', '', tweet)\n",
    "    # Remove pontuações\n",
    "    tweet = tweet.translate(str.maketrans('', '', string.punctuation))\n",
    "    # Tokenização\n",
    "    tokens = word_tokenize(tweet)\n",
    "    # Remover stop words\n",
    "    tokens = [word for word in tokens if word not in stopwords.words('english')]\n",
    "    # Lematização\n",
    "    lemmatizer = WordNetLemmatizer()\n",
    "    tokens = [lemmatizer.lemmatize(word) for word in tokens]\n",
    "    return ' '.join(tokens)"
   ]
  },
  {
   "cell_type": "markdown",
   "metadata": {},
   "source": [
    "### Aplicação da Limpeza dos Tweets e Preparação dos Dados\n",
    "\n",
    "Neste bloco de código, aplicamos a função de limpeza aos tweets, realizamos a vetorização dos textos e preparamos os dados para treinamento e teste.\n",
    "\n",
    "1. **Aplicação da Função de Limpeza:**\n",
    "   - `df['tweet'] = df['tweet'].apply(process_tweets)`\n",
    "   - Aplica a função `process_tweets` a cada tweet na coluna `tweet` do DataFrame `df`. Isso transforma os tweets brutos em textos limpos e padronizados, prontos para a vetorização.\n",
    "\n",
    "2. **Vetorização usando CountVectorizer:**\n",
    "   - `vectorizer = CountVectorizer(max_features=5000)`\n",
    "   - `X = vectorizer.fit_transform(df['tweet'])`\n",
    "   - Utiliza `CountVectorizer` para converter os textos dos tweets em uma matriz de contagens de palavras. Limitamos o número de características (palavras) a 5000 para manter a complexidade gerenciável.\n",
    "   - `X` é a matriz de características resultante da vetorização.\n",
    "\n",
    "3. **Preparação das Variáveis Dependente e Independente:**\n",
    "   - `y = df['label']`\n",
    "   - Define `y` como a variável dependente contendo os rótulos (sentimentos) dos tweets.\n",
    "\n",
    "4. **Divisão do Conjunto de Dados:**\n",
    "   - `X_train, X_test, y_train, y_test = train_test_split(X, y, test_size=0.2, random_state=42)`\n",
    "   - Divide os dados em conjuntos de treinamento e teste. Utilizamos 80% dos dados para treinamento (`X_train`, `y_train`) e 20% para teste (`X_test`, `y_test`).\n",
    "   - O parâmetro `random_state=42` garante que a divisão dos dados seja reprodutível.\n",
    "\n",
    "Essas etapas preparam os dados textuais para serem utilizados em modelos de aprendizado de máquina, convertendo-os de texto cru para uma representação numérica que pode ser processada por algoritmos.\n"
   ]
  },
  {
   "cell_type": "code",
   "execution_count": 10,
   "metadata": {},
   "outputs": [],
   "source": [
    "# Aplicar a limpeza dos tweets\n",
    "df['tweet'] = df['tweet'].apply(process_tweets)\n",
    "\n",
    "# Vetorização usando CountVectorizer\n",
    "vectorizer = CountVectorizer(max_features=5000)\n",
    "X = vectorizer.fit_transform(df['tweet'])\n",
    "y = df['label']\n",
    "\n",
    "# Dividir o conjunto de dados em treinamento e teste\n",
    "X_train, X_test, y_train, y_test = train_test_split(X, y, test_size=0.2, random_state=42)"
   ]
  },
  {
   "cell_type": "markdown",
   "metadata": {},
   "source": [
    "### Treinamento do Modelo Naive Bayes\n",
    "\n",
    "Neste bloco de código, estamos treinando um modelo de Naive Bayes Multinomial com os dados de treinamento.\n",
    "\n",
    "1. **Criação do Modelo Multinomial Naive Bayes:**\n",
    "   - `clf = MultinomialNB()`\n",
    "   - Inicializamos um classificador Multinomial Naive Bayes, que é apropriado para dados de contagem, como os gerados pelo `CountVectorizer`.\n",
    "\n",
    "2. **Treinamento do Modelo:**\n",
    "   - `clf.fit(X_train, y_train)`\n",
    "   - Ajustamos o modelo `clf` aos dados de treinamento. O método `fit` treina o modelo usando as matrizes de características `X_train` e os rótulos `y_train`.\n",
    "\n",
    "Ao final deste bloco, o modelo Multinomial Naive Bayes foi treinado com os dados de treinamento, estando pronto para fazer previsões e ser avaliado em novos dados.\n"
   ]
  },
  {
   "cell_type": "code",
   "execution_count": 11,
   "metadata": {},
   "outputs": [
    {
     "data": {
      "text/html": [
       "<style>#sk-container-id-1 {color: black;background-color: white;}#sk-container-id-1 pre{padding: 0;}#sk-container-id-1 div.sk-toggleable {background-color: white;}#sk-container-id-1 label.sk-toggleable__label {cursor: pointer;display: block;width: 100%;margin-bottom: 0;padding: 0.3em;box-sizing: border-box;text-align: center;}#sk-container-id-1 label.sk-toggleable__label-arrow:before {content: \"▸\";float: left;margin-right: 0.25em;color: #696969;}#sk-container-id-1 label.sk-toggleable__label-arrow:hover:before {color: black;}#sk-container-id-1 div.sk-estimator:hover label.sk-toggleable__label-arrow:before {color: black;}#sk-container-id-1 div.sk-toggleable__content {max-height: 0;max-width: 0;overflow: hidden;text-align: left;background-color: #f0f8ff;}#sk-container-id-1 div.sk-toggleable__content pre {margin: 0.2em;color: black;border-radius: 0.25em;background-color: #f0f8ff;}#sk-container-id-1 input.sk-toggleable__control:checked~div.sk-toggleable__content {max-height: 200px;max-width: 100%;overflow: auto;}#sk-container-id-1 input.sk-toggleable__control:checked~label.sk-toggleable__label-arrow:before {content: \"▾\";}#sk-container-id-1 div.sk-estimator input.sk-toggleable__control:checked~label.sk-toggleable__label {background-color: #d4ebff;}#sk-container-id-1 div.sk-label input.sk-toggleable__control:checked~label.sk-toggleable__label {background-color: #d4ebff;}#sk-container-id-1 input.sk-hidden--visually {border: 0;clip: rect(1px 1px 1px 1px);clip: rect(1px, 1px, 1px, 1px);height: 1px;margin: -1px;overflow: hidden;padding: 0;position: absolute;width: 1px;}#sk-container-id-1 div.sk-estimator {font-family: monospace;background-color: #f0f8ff;border: 1px dotted black;border-radius: 0.25em;box-sizing: border-box;margin-bottom: 0.5em;}#sk-container-id-1 div.sk-estimator:hover {background-color: #d4ebff;}#sk-container-id-1 div.sk-parallel-item::after {content: \"\";width: 100%;border-bottom: 1px solid gray;flex-grow: 1;}#sk-container-id-1 div.sk-label:hover label.sk-toggleable__label {background-color: #d4ebff;}#sk-container-id-1 div.sk-serial::before {content: \"\";position: absolute;border-left: 1px solid gray;box-sizing: border-box;top: 0;bottom: 0;left: 50%;z-index: 0;}#sk-container-id-1 div.sk-serial {display: flex;flex-direction: column;align-items: center;background-color: white;padding-right: 0.2em;padding-left: 0.2em;position: relative;}#sk-container-id-1 div.sk-item {position: relative;z-index: 1;}#sk-container-id-1 div.sk-parallel {display: flex;align-items: stretch;justify-content: center;background-color: white;position: relative;}#sk-container-id-1 div.sk-item::before, #sk-container-id-1 div.sk-parallel-item::before {content: \"\";position: absolute;border-left: 1px solid gray;box-sizing: border-box;top: 0;bottom: 0;left: 50%;z-index: -1;}#sk-container-id-1 div.sk-parallel-item {display: flex;flex-direction: column;z-index: 1;position: relative;background-color: white;}#sk-container-id-1 div.sk-parallel-item:first-child::after {align-self: flex-end;width: 50%;}#sk-container-id-1 div.sk-parallel-item:last-child::after {align-self: flex-start;width: 50%;}#sk-container-id-1 div.sk-parallel-item:only-child::after {width: 0;}#sk-container-id-1 div.sk-dashed-wrapped {border: 1px dashed gray;margin: 0 0.4em 0.5em 0.4em;box-sizing: border-box;padding-bottom: 0.4em;background-color: white;}#sk-container-id-1 div.sk-label label {font-family: monospace;font-weight: bold;display: inline-block;line-height: 1.2em;}#sk-container-id-1 div.sk-label-container {text-align: center;}#sk-container-id-1 div.sk-container {/* jupyter's `normalize.less` sets `[hidden] { display: none; }` but bootstrap.min.css set `[hidden] { display: none !important; }` so we also need the `!important` here to be able to override the default hidden behavior on the sphinx rendered scikit-learn.org. See: https://github.com/scikit-learn/scikit-learn/issues/21755 */display: inline-block !important;position: relative;}#sk-container-id-1 div.sk-text-repr-fallback {display: none;}</style><div id=\"sk-container-id-1\" class=\"sk-top-container\"><div class=\"sk-text-repr-fallback\"><pre>MultinomialNB()</pre><b>In a Jupyter environment, please rerun this cell to show the HTML representation or trust the notebook. <br />On GitHub, the HTML representation is unable to render, please try loading this page with nbviewer.org.</b></div><div class=\"sk-container\" hidden><div class=\"sk-item\"><div class=\"sk-estimator sk-toggleable\"><input class=\"sk-toggleable__control sk-hidden--visually\" id=\"sk-estimator-id-1\" type=\"checkbox\" checked><label for=\"sk-estimator-id-1\" class=\"sk-toggleable__label sk-toggleable__label-arrow\">MultinomialNB</label><div class=\"sk-toggleable__content\"><pre>MultinomialNB()</pre></div></div></div></div></div>"
      ],
      "text/plain": [
       "MultinomialNB()"
      ]
     },
     "execution_count": 11,
     "metadata": {},
     "output_type": "execute_result"
    }
   ],
   "source": [
    "clf = MultinomialNB()\n",
    "clf.fit(X_train, y_train)"
   ]
  },
  {
   "cell_type": "markdown",
   "metadata": {},
   "source": [
    "### Avaliação do Modelo Nos Conjuntos de Treinamento e Teste\n",
    "\n",
    "Neste bloco de código, estamos avaliando o desempenho do modelo treinado tanto no conjunto de treinamento quanto no conjunto de teste.\n",
    "\n",
    "1. **Avaliação no Conjunto de Treinamento:**\n",
    "   - `y_pred_train = clf.predict(X_train)`\n",
    "     - Utilizamos o modelo `clf` para prever os rótulos do conjunto de treinamento `X_train`.\n",
    "   - `acuracia_train = accuracy_score(y_train, y_pred_train)`\n",
    "     - Calculamos a acurácia das previsões no conjunto de treinamento comparando `y_pred_train` com os rótulos reais `y_train` usando a função `accuracy_score`.\n",
    "   - `print(f'Train Accuracy: {acuracia_train}')`\n",
    "     - Imprimimos a acurácia do modelo no conjunto de treinamento. Esta métrica nos ajuda a entender o quão bem o modelo aprendeu os dados de treinamento.\n",
    "\n",
    "2. **Avaliação no Conjunto de Teste:**\n",
    "   - `y_pred_test = clf.predict(X_test)`\n",
    "     - Utilizamos o modelo `clf` para prever os rótulos do conjunto de teste `X_test`.\n",
    "   - `acuracia_test = accuracy_score(y_test, y_pred_test)`\n",
    "     - Calculamos a acurácia das previsões no conjunto de teste comparando `y_pred_test` com os rótulos reais `y_test` usando a função `accuracy_score`.\n",
    "   - `print(f'Test Accuracy: {acuracia_test}')`\n",
    "     - Imprimimos a acurácia do modelo no conjunto de teste. Esta métrica nos dá uma ideia do desempenho do modelo em dados novos e não vistos durante o treinamento.\n",
    "\n",
    "Avaliar o modelo tanto no conjunto de treinamento quanto no conjunto de teste é crucial para detectar possíveis problemas de overfitting ou underfitting. O overfitting ocorre quando o modelo performa muito bem nos dados de treinamento, mas não generaliza bem para novos dados. O underfitting ocorre quando o modelo não performa bem nem nos dados de treinamento nem nos de teste."
   ]
  },
  {
   "cell_type": "code",
   "execution_count": 12,
   "metadata": {},
   "outputs": [
    {
     "name": "stdout",
     "output_type": "stream",
     "text": [
      "Train Accuracy: 0.7695375\n",
      "Test Accuracy: 0.761125\n"
     ]
    }
   ],
   "source": [
    "#Avaliação no conjunto de treinamento\n",
    "y_pred_train = clf.predict(X_train)\n",
    "acuracia_train = accuracy_score(y_train, y_pred_train)\n",
    "print(f'Train Accuracy: {acuracia_train}')\n",
    "\n",
    "#Avaliação no conjunto de testes\n",
    "y_pred_test = clf.predict(X_test)\n",
    "acuracia_test = accuracy_score(y_test, y_pred_test)\n",
    "print(f'Test Accuracy: {acuracia_test}')"
   ]
  },
  {
   "cell_type": "markdown",
   "metadata": {},
   "source": [
    "### Relatório de Classificação\n",
    "\n",
    "Neste bloco de código, estamos gerando um relatório de classificação detalhado para avaliar o desempenho do modelo no conjunto de teste.\n"
   ]
  },
  {
   "cell_type": "code",
   "execution_count": 13,
   "metadata": {},
   "outputs": [
    {
     "name": "stdout",
     "output_type": "stream",
     "text": [
      "              precision    recall  f1-score   support\n",
      "\n",
      "           0       0.77      0.76      0.76     20088\n",
      "           1       0.76      0.77      0.76     19912\n",
      "\n",
      "    accuracy                           0.76     40000\n",
      "   macro avg       0.76      0.76      0.76     40000\n",
      "weighted avg       0.76      0.76      0.76     40000\n",
      "\n"
     ]
    }
   ],
   "source": [
    "print(classification_report(y_test, y_pred_test))"
   ]
  },
  {
   "cell_type": "markdown",
   "metadata": {},
   "source": [
    "### Matriz de Confusão\n",
    "\n",
    "Neste bloco de código, estamos calculando e verificando o tipo da matriz de confusão, que é uma ferramenta essencial para avaliar a performance do modelo de classificação.\n"
   ]
  },
  {
   "cell_type": "code",
   "execution_count": 14,
   "metadata": {},
   "outputs": [
    {
     "name": "stdout",
     "output_type": "stream",
     "text": [
      "<class 'numpy.ndarray'>\n"
     ]
    }
   ],
   "source": [
    "cf_matrix = confusion_matrix(y_test, y_pred_test)\n",
    "print(type(cf_matrix))"
   ]
  },
  {
   "cell_type": "markdown",
   "metadata": {},
   "source": [
    "### Visualização da Matriz de Confusão\n",
    "\n",
    "Neste bloco de código, estamos visualizando a matriz de confusão para a classificação dos tweets, utilizando a biblioteca `matplotlib` e a classe `ConfusionMatrixDisplay` do `sklearn.metrics`."
   ]
  },
  {
   "cell_type": "code",
   "execution_count": 15,
   "metadata": {},
   "outputs": [
    {
     "data": {
      "image/png": "[encoded data removed]",
      "text/plain": [
       "<Figure size 800x600 with 2 Axes>"
      ]
     },
     "metadata": {},
     "output_type": "display_data"
    }
   ],
   "source": [
    "import matplotlib.pyplot as plt\n",
    "from sklearn.metrics import ConfusionMatrixDisplay\n",
    " \n",
    "# Change figure size and increase dpi for better resolution\n",
    "# and get reference to axes object\n",
    "fig, ax = plt.subplots(figsize=(8,6), dpi=100)\n",
    " \n",
    "# initialize using the raw 2D confusion matrix \n",
    "# and output labels (in our case, it's 0 and 1)\n",
    "display = ConfusionMatrixDisplay(cf_matrix, display_labels= ['Negative', 'Positive'])\n",
    " \n",
    "# set the plot title using the axes object\n",
    "ax.set(title='Confusion Matrix for the Tweets Classification')\n",
    " \n",
    "# show the plot. \n",
    "# Pass the parameter ax to show customizations (ex. title) \n",
    "display.plot(ax=ax);"
   ]
  }
 ],
 "metadata": {
  "kernelspec": {
   "display_name": "base",
   "language": "python",
   "name": "python3"
  },
  "language_info": {
   "codemirror_mode": {
    "name": "ipython",
    "version": 3
   },
   "file_extension": ".py",
   "mimetype": "text/x-python",
   "name": "python",
   "nbconvert_exporter": "python",
   "pygments_lexer": "ipython3",
   "version": "3.11.5"
  }
 },
 "nbformat": 4,
 "nbformat_minor": 2
}
